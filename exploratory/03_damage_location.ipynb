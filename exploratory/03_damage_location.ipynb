{
 "cells": [
  {
   "cell_type": "markdown",
   "metadata": {},
   "source": [
    "# Pipe3: \n",
    "## To classify location of damage - front, rear or behind."
   ]
  },
  {
   "cell_type": "code",
   "execution_count": 17,
   "metadata": {},
   "outputs": [],
   "source": [
    "import os\n",
    "import urllib.request\n",
    "import json\n",
    "import numpy as np\n",
    "import seaborn as sns\n",
    "import matplotlib.pyplot as plt\n",
    "from IPython.display import Image\n",
    "from keras.layers import Input\n",
    "from sklearn.metrics import classification_report, confusion_matrix\n",
    "\n",
    "\n",
    "%matplotlib inline\n",
    "sns.set_style('whitegrid')"
   ]
  },
  {
   "cell_type": "code",
   "execution_count": 2,
   "metadata": {},
   "outputs": [],
   "source": [
    "from keras import optimizers\n",
    "from keras.models import Sequential, load_model, Model\n",
    "from keras.layers import Dense, Dropout, Flatten\n",
    "from keras.applications.vgg16 import VGG16\n",
    "from keras.callbacks import ModelCheckpoint\n",
    "from keras.utils import to_categorical\n",
    "from keras.preprocessing.image import ImageDataGenerator, img_to_array, load_img"
   ]
  },
  {
   "cell_type": "code",
   "execution_count": 3,
   "metadata": {},
   "outputs": [],
   "source": [
    "def save_bottleneck_features():\n",
    "    datagen = ImageDataGenerator(rescale=1./255)\n",
    "    \n",
    "    model = VGG16(include_top=False, weights='imagenet')\n",
    "    \n",
    "    generator = datagen.flow_from_directory(train_data_dir, target_size=(img_width,img_height), batch_size=batch_size, class_mode=None, shuffle=False)\n",
    "    bottleneck_features_train = model.predict_generator(generator, nb_train_samples//batch_size)\n",
    "    np.save(location+'/bottleneck_features_train.npy', bottleneck_features_train)\n",
    "    \n",
    "    generator = datagen.flow_from_directory(validation_data_dir, target_size=(img_width,img_height), batch_size=batch_size, class_mode=None, shuffle=False)\n",
    "    bottleneck_features_validation = model.predict_generator(generator, nb_validation_samples//batch_size)\n",
    "    np.save(location+'/bottleneck_features_validation.npy', bottleneck_features_validation)"
   ]
  },
  {
   "cell_type": "code",
   "execution_count": 4,
   "metadata": {},
   "outputs": [],
   "source": [
    "def print_best_model_results(model_hist):\n",
    "    best_epoch = np.argmax(model_hist['val_accuracy'])\n",
    "    print('epoch:', best_epoch+1, ', val_accuracy:', model_hist['val_accuracy'][best_epoch], ', val_loss:', model_hist['val_loss'][best_epoch])"
   ]
  },
  {
   "cell_type": "code",
   "execution_count": 26,
   "metadata": {},
   "outputs": [],
   "source": [
    "def plot_metrics(hist, stop=32):\n",
    "    fig, axes = plt.subplots(nrows=1, ncols=2, figsize=(10,4))\n",
    "    axes = axes.flatten()\n",
    "    \n",
    "    axes[0].plot(range(stop), hist['accuracy'], label='Training')\n",
    "    axes[0].plot(range(stop), hist['val_accuracy'], label='Validation')\n",
    "    axes[0].set_title('Accuracy')\n",
    "    axes[0].set_ylabel('Accuracy')\n",
    "    axes[0].set_xlabel('Epoch')\n",
    "    axes[0].legend(loc='lower right')\n",
    "    \n",
    "    axes[1].plot(range(stop), hist['loss'], label='Training')\n",
    "    axes[1].plot(range(stop), hist['val_loss'], label='Validation')\n",
    "    axes[1].set_title('Loss')\n",
    "    axes[1].set_ylabel('Loss')\n",
    "    axes[1].set_xlabel('Epoch')\n",
    "    axes[1].legend(loc='upper right')\n",
    "    \n",
    "    plt.tight_layout();\n",
    "    \n",
    "    print(\"Best Model:\")\n",
    "    print_best_model_results(hist)"
   ]
  },
  {
   "cell_type": "code",
   "execution_count": 20,
   "metadata": {},
   "outputs": [],
   "source": [
    "def train_categorical_model():\n",
    "    train_data = np.load(location+'/bottleneck_features_train.npy')\n",
    "    train_labels = np.array([0]*(416) + [1]*(288) + [2]*(272))\n",
    "    train_labels = to_categorical(train_labels)\n",
    "    \n",
    "    validation_data = np.load(location+'/bottleneck_features_validation.npy')\n",
    "    validation_labels = np.array([0]*(73) + [1]*(53) + [2]*(50))\n",
    "    validation_labels = to_categorical(validation_labels)\n",
    "    \n",
    "    model = Sequential()\n",
    "    model.add(Flatten(input_shape=train_data.shape[1:]))\n",
    "    model.add(Dense(256, activation='relu'))\n",
    "    model.add(Dropout(0.5))\n",
    "    model.add(Dense(3, activation='softmax'))\n",
    "    \n",
    "    model.compile(optimizer='rmsprop', loss='categorical_crossentropy', metrics=['accuracy'])\n",
    "    \n",
    "    checkpoint = ModelCheckpoint(top_model_weights_path, monitor='val_accuracy', verbose=1, save_best_only=True, save_weights_only=True,mode='auto')\n",
    "    \n",
    "    fit = model.fit(train_data, train_labels, epochs=epochs, batch_size=batch_size, validation_data=(validation_data,validation_labels), callbacks=[checkpoint])\n",
    "        \n",
    "    with open(location+'/top_history.txt', 'w') as f:\n",
    "        json.dump(fit.history, f)\n",
    "    \n",
    "    return model,fit.history"
   ]
  },
  {
   "cell_type": "code",
   "execution_count": 19,
   "metadata": {},
   "outputs": [
    {
     "ename": "NameError",
     "evalue": "name 'train_labels' is not defined",
     "output_type": "error",
     "traceback": [
      "\u001b[0;31m---------------------------------------------------------------------------\u001b[0m",
      "\u001b[0;31mNameError\u001b[0m                                 Traceback (most recent call last)",
      "\u001b[1;32m/Users/estelabalboa/dev/hackathons/delorian-claim/delorian-assesment/exploratory/03-pipe_3.1-damage_location.ipynb Cell 8\u001b[0m line \u001b[0;36m1\n\u001b[0;32m----> <a href='vscode-notebook-cell:/Users/estelabalboa/dev/hackathons/delorian-claim/delorian-assesment/exploratory/03-pipe_3.1-damage_location.ipynb#X36sZmlsZQ%3D%3D?line=0'>1</a>\u001b[0m train_labels\n",
      "\u001b[0;31mNameError\u001b[0m: name 'train_labels' is not defined"
     ]
    }
   ],
   "source": [
    "train_labels"
   ]
  },
  {
   "cell_type": "code",
   "execution_count": 7,
   "metadata": {},
   "outputs": [],
   "source": [
    "def finetune_categorical_model():\n",
    "    input_tensor = Input(shape=(256,256,3))\n",
    "    base_model = VGG16(weights='imagenet',include_top= False,input_tensor=input_tensor)\n",
    "    print(\"Model loaded.\")\n",
    "    top_model = Sequential()\n",
    "    top_model.add(Flatten(input_shape=base_model.output_shape[1:]))\n",
    "    top_model.add(Dense(256, activation='relu'))\n",
    "    top_model.add(Dropout(0.5))\n",
    "    top_model.add(Dense(3, activation='softmax'))\n",
    "    \n",
    "    top_model.load_weights(top_model_weights_path)\n",
    "    \n",
    "    model = Model(inputs=base_model.input, outputs=top_model(base_model.output))\n",
    "    \n",
    "    for layer in model.layers[:25]:\n",
    "        layer.trainable = False\n",
    "    \n",
    "    model.compile(loss='categorical_crossentropy', optimizer=optimizers.SGD(lr=0.00001, momentum=0.9), metrics=['accuracy'])\n",
    "    \n",
    "    train_datagen = ImageDataGenerator(rescale=1./255, shear_range=0.2, zoom_range=0.2, horizontal_flip=True)\n",
    "    \n",
    "    test_datagen = ImageDataGenerator(rescale=1./255)\n",
    "    \n",
    "    train_generator = train_datagen.flow_from_directory(train_data_dir, target_size=(img_height, img_width), batch_size=batch_size, class_mode='categorical')\n",
    "    \n",
    "    validation_generator = test_datagen.flow_from_directory(validation_data_dir, target_size=(img_height, img_width), batch_size=batch_size, class_mode='categorical')\n",
    "    \n",
    "    checkpoint = ModelCheckpoint(fine_tuned_model_path, monitor='val_accuracy', verbose=1, save_best_only=True, save_weights_only=False, mode='auto')\n",
    "    \n",
    "    fit = model.fit_generator(train_generator, steps_per_epoch=nb_train_samples//batch_size, epochs=epochs, validation_data=validation_generator, validation_steps=nb_validation_samples//batch_size, verbose=1, callbacks=[checkpoint])\n",
    "    \n",
    "    with open(location+'/ft_history.txt', 'w') as f:\n",
    "        json.dump(fit.history, f)\n",
    "        \n",
    "    return model, fit.history"
   ]
  },
  {
   "cell_type": "code",
   "execution_count": 8,
   "metadata": {},
   "outputs": [],
   "source": [
    "def evaluate_categorical_model(model, directory, labels):\n",
    "    datagen = ImageDataGenerator(rescale=1./255)\n",
    "    \n",
    "    generator = datagen.flow_from_directory(directory, target_size=(img_height,img_width), batch_size=batch_size, class_mode='categorical', shuffle=False)\n",
    "    \n",
    "    predictions = model.predict_generator(generator, len(labels))\n",
    "    \n",
    "    pred_labels = [0 if i<0.5 else 1 for i in predictions]\n",
    "    \n",
    "    print('')\n",
    "    print(classification_report(validation_labels, pred_labels))\n",
    "    print('')\n",
    "    cm = confusion_matrix(validation_labels, pred_labels)\n",
    "    return cm"
   ]
  },
  {
   "cell_type": "markdown",
   "metadata": {},
   "source": [
    "## Image dataset details"
   ]
  },
  {
   "cell_type": "code",
   "execution_count": 23,
   "metadata": {},
   "outputs": [],
   "source": [
    "location = '../data3'\n",
    "top_model_weights_path = location+'/top_model_weights.h5'\n",
    "fine_tuned_model_path = location+'/ft_model.h5'\n",
    "model1 = location+'/bottleneck_fc_model.h5'\n",
    "train_data_dir = location+'/training'\n",
    "validation_data_dir = location+'/validation'\n",
    "train_samples = [len(os.listdir(train_data_dir+'/'+i)) for i in sorted(os.listdir(train_data_dir))]\n",
    "nb_train_samples = 976\n",
    "validation_samples = [len(os.listdir(validation_data_dir+'/'+i)) for i in sorted(os.listdir(validation_data_dir))]\n",
    "nb_validation_samples = 176\n",
    "\n",
    "img_width, img_height = 256,256\n",
    "epochs = 32\n",
    "batch_size = 16"
   ]
  },
  {
   "cell_type": "code",
   "execution_count": 10,
   "metadata": {
    "scrolled": true
   },
   "outputs": [
    {
     "name": "stdout",
     "output_type": "stream",
     "text": [
      "Found 1840 images belonging to 2 classes.\n"
     ]
    },
    {
     "name": "stderr",
     "output_type": "stream",
     "text": [
      "/var/folders/j1/vm8wnhzj1xx95r_k8mczqpwr0000gn/T/ipykernel_32344/1273678277.py:7: UserWarning: `Model.predict_generator` is deprecated and will be removed in a future version. Please use `Model.predict`, which supports generators.\n",
      "  bottleneck_features_train = model.predict_generator(generator, nb_train_samples//batch_size)\n"
     ]
    },
    {
     "name": "stdout",
     "output_type": "stream",
     "text": [
      "Found 460 images belonging to 2 classes.\n"
     ]
    },
    {
     "name": "stderr",
     "output_type": "stream",
     "text": [
      "/var/folders/j1/vm8wnhzj1xx95r_k8mczqpwr0000gn/T/ipykernel_32344/1273678277.py:11: UserWarning: `Model.predict_generator` is deprecated and will be removed in a future version. Please use `Model.predict`, which supports generators.\n",
      "  bottleneck_features_validation = model.predict_generator(generator, nb_validation_samples//batch_size)\n"
     ]
    }
   ],
   "source": [
    "save_bottleneck_features()"
   ]
  },
  {
   "cell_type": "code",
   "execution_count": 24,
   "metadata": {
    "collapsed": true
   },
   "outputs": [
    {
     "name": "stdout",
     "output_type": "stream",
     "text": [
      "[0 0 0 0 0 0 0 0 0 0 0 0 0 0 0 0 0 0 0 0 0 0 0 0 0 0 0 0 0 0 0 0 0 0 0 0 0\n",
      " 0 0 0 0 0 0 0 0 0 0 0 0 0 0 0 0 0 0 0 0 0 0 0 0 0 0 0 0 0 0 0 0 0 0 0 0 0\n",
      " 0 0 0 0 0 0 0 0 0 0 0 0 0 0 0 0 0 0 0 0 0 0 0 0 0 0 0 0 0 0 0 0 0 0 0 0 0\n",
      " 0 0 0 0 0 0 0 0 0 0 0 0 0 0 0 0 0 0 0 0 0 0 0 0 0 0 0 0 0 0 0 0 0 0 0 0 0\n",
      " 0 0 0 0 0 0 0 0 0 0 0 0 0 0 0 0 0 0 0 0 0 0 0 0 0 0 0 0 0 0 0 0 0 0 0 0 0\n",
      " 0 0 0 0 0 0 0 0 0 0 0 0 0 0 0 0 0 0 0 0 0 0 0 0 0 0 0 0 0 0 0 0 0 0 0 0 0\n",
      " 0 0 0 0 0 0 0 0 0 0 0 0 0 0 0 0 0 0 0 0 0 0 0 0 0 0 0 0 0 0 0 0 0 0 0 0 0\n",
      " 0 0 0 0 0 0 0 0 0 0 0 0 0 0 0 0 0 0 0 0 0 0 0 0 0 0 0 0 0 0 0 0 0 0 0 0 0\n",
      " 0 0 0 0 0 0 0 0 0 0 0 0 0 0 0 0 0 0 0 0 0 0 0 0 0 0 0 0 0 0 0 0 0 0 0 0 0\n",
      " 0 0 0 0 0 0 0 0 0 0 0 0 0 0 0 0 0 0 0 0 0 0 0 0 0 0 0 0 0 0 0 0 0 0 0 0 0\n",
      " 0 0 0 0 0 0 0 0 0 0 0 0 0 0 0 0 0 0 0 0 0 0 0 0 0 0 0 0 0 0 0 0 0 0 0 0 0\n",
      " 0 0 0 0 0 0 0 0 0 1 1 1 1 1 1 1 1 1 1 1 1 1 1 1 1 1 1 1 1 1 1 1 1 1 1 1 1\n",
      " 1 1 1 1 1 1 1 1 1 1 1 1 1 1 1 1 1 1 1 1 1 1 1 1 1 1 1 1 1 1 1 1 1 1 1 1 1\n",
      " 1 1 1 1 1 1 1 1 1 1 1 1 1 1 1 1 1 1 1 1 1 1 1 1 1 1 1 1 1 1 1 1 1 1 1 1 1\n",
      " 1 1 1 1 1 1 1 1 1 1 1 1 1 1 1 1 1 1 1 1 1 1 1 1 1 1 1 1 1 1 1 1 1 1 1 1 1\n",
      " 1 1 1 1 1 1 1 1 1 1 1 1 1 1 1 1 1 1 1 1 1 1 1 1 1 1 1 1 1 1 1 1 1 1 1 1 1\n",
      " 1 1 1 1 1 1 1 1 1 1 1 1 1 1 1 1 1 1 1 1 1 1 1 1 1 1 1 1 1 1 1 1 1 1 1 1 1\n",
      " 1 1 1 1 1 1 1 1 1 1 1 1 1 1 1 1 1 1 1 1 1 1 1 1 1 1 1 1 1 1 1 1 1 1 1 1 1\n",
      " 1 1 1 1 1 1 1 1 1 1 1 1 1 1 1 1 1 1 1 1 1 1 1 1 1 1 1 1 1 1 1 1 1 1 1 1 1\n",
      " 1 2 2 2 2 2 2 2 2 2 2 2 2 2 2 2 2 2 2 2 2 2 2 2 2 2 2 2 2 2 2 2 2 2 2 2 2\n",
      " 2 2 2 2 2 2 2 2 2 2 2 2 2 2 2 2 2 2 2 2 2 2 2 2 2 2 2 2 2 2 2 2 2 2 2 2 2\n",
      " 2 2 2 2 2 2 2 2 2 2 2 2 2 2 2 2 2 2 2 2 2 2 2 2 2 2 2 2 2 2 2 2 2 2 2 2 2\n",
      " 2 2 2 2 2 2 2 2 2 2 2 2 2 2 2 2 2 2 2 2 2 2 2 2 2 2 2 2 2 2 2 2 2 2 2 2 2\n",
      " 2 2 2 2 2 2 2 2 2 2 2 2 2 2 2 2 2 2 2 2 2 2 2 2 2 2 2 2 2 2 2 2 2 2 2 2 2\n",
      " 2 2 2 2 2 2 2 2 2 2 2 2 2 2 2 2 2 2 2 2 2 2 2 2 2 2 2 2 2 2 2 2 2 2 2 2 2\n",
      " 2 2 2 2 2 2 2 2 2 2 2 2 2 2 2 2 2 2 2 2 2 2 2 2 2 2 2 2 2 2 2 2 2 2 2 2 2\n",
      " 2 2 2 2 2 2 2 2 2 2 2 2 2 2]\n",
      "[[1. 0. 0.]\n",
      " [1. 0. 0.]\n",
      " [1. 0. 0.]\n",
      " ...\n",
      " [0. 0. 1.]\n",
      " [0. 0. 1.]\n",
      " [0. 0. 1.]]\n",
      "Epoch 1/32\n",
      "59/61 [============================>.] - ETA: 0s - loss: 3.5230 - accuracy: 0.3824\n",
      "Epoch 1: val_accuracy improved from -inf to 0.38068, saving model to ../data3/top_model_weights.h5\n",
      "61/61 [==============================] - 2s 27ms/step - loss: 3.4480 - accuracy: 0.3822 - val_loss: 1.0966 - val_accuracy: 0.3807\n",
      "Epoch 2/32\n",
      "60/61 [============================>.] - ETA: 0s - loss: 1.3105 - accuracy: 0.3948\n",
      "Epoch 2: val_accuracy improved from 0.38068 to 0.40909, saving model to ../data3/top_model_weights.h5\n",
      "61/61 [==============================] - 1s 25ms/step - loss: 1.3078 - accuracy: 0.3955 - val_loss: 1.0813 - val_accuracy: 0.4091\n",
      "Epoch 3/32\n",
      "60/61 [============================>.] - ETA: 0s - loss: 1.1731 - accuracy: 0.4521\n",
      "Epoch 3: val_accuracy did not improve from 0.40909\n",
      "61/61 [==============================] - 2s 27ms/step - loss: 1.1708 - accuracy: 0.4508 - val_loss: 1.5871 - val_accuracy: 0.2841\n",
      "Epoch 4/32\n",
      "61/61 [==============================] - ETA: 0s - loss: 1.2554 - accuracy: 0.4406\n",
      "Epoch 4: val_accuracy improved from 0.40909 to 0.42045, saving model to ../data3/top_model_weights.h5\n",
      "61/61 [==============================] - 2s 32ms/step - loss: 1.2554 - accuracy: 0.4406 - val_loss: 1.2028 - val_accuracy: 0.4205\n",
      "Epoch 5/32\n",
      "61/61 [==============================] - ETA: 0s - loss: 1.0863 - accuracy: 0.4857\n",
      "Epoch 5: val_accuracy did not improve from 0.42045\n",
      "61/61 [==============================] - 2s 25ms/step - loss: 1.0863 - accuracy: 0.4857 - val_loss: 1.1361 - val_accuracy: 0.4091\n",
      "Epoch 6/32\n",
      "60/61 [============================>.] - ETA: 0s - loss: 1.0581 - accuracy: 0.5292\n",
      "Epoch 6: val_accuracy did not improve from 0.42045\n",
      "61/61 [==============================] - 2s 26ms/step - loss: 1.0585 - accuracy: 0.5287 - val_loss: 1.1196 - val_accuracy: 0.3580\n",
      "Epoch 7/32\n",
      "60/61 [============================>.] - ETA: 0s - loss: 1.0449 - accuracy: 0.5521\n",
      "Epoch 7: val_accuracy did not improve from 0.42045\n",
      "61/61 [==============================] - 2s 26ms/step - loss: 1.0486 - accuracy: 0.5523 - val_loss: 1.3281 - val_accuracy: 0.3750\n",
      "Epoch 8/32\n",
      "60/61 [============================>.] - ETA: 0s - loss: 0.9736 - accuracy: 0.6115\n",
      "Epoch 8: val_accuracy did not improve from 0.42045\n",
      "61/61 [==============================] - 2s 30ms/step - loss: 0.9730 - accuracy: 0.6107 - val_loss: 1.2265 - val_accuracy: 0.4205\n",
      "Epoch 9/32\n",
      "60/61 [============================>.] - ETA: 0s - loss: 0.8432 - accuracy: 0.6177\n",
      "Epoch 9: val_accuracy did not improve from 0.42045\n",
      "61/61 [==============================] - 2s 26ms/step - loss: 0.8424 - accuracy: 0.6168 - val_loss: 1.5230 - val_accuracy: 0.3807\n",
      "Epoch 10/32\n",
      "60/61 [============================>.] - ETA: 0s - loss: 0.8077 - accuracy: 0.6479\n",
      "Epoch 10: val_accuracy did not improve from 0.42045\n",
      "61/61 [==============================] - 2s 28ms/step - loss: 0.8091 - accuracy: 0.6475 - val_loss: 1.2727 - val_accuracy: 0.4034\n",
      "Epoch 11/32\n",
      "60/61 [============================>.] - ETA: 0s - loss: 0.7620 - accuracy: 0.6573\n",
      "Epoch 11: val_accuracy did not improve from 0.42045\n",
      "61/61 [==============================] - 2s 27ms/step - loss: 0.7638 - accuracy: 0.6568 - val_loss: 1.3836 - val_accuracy: 0.3977\n",
      "Epoch 12/32\n",
      "59/61 [============================>.] - ETA: 0s - loss: 0.7475 - accuracy: 0.7002\n",
      "Epoch 12: val_accuracy did not improve from 0.42045\n",
      "61/61 [==============================] - 2s 27ms/step - loss: 0.7468 - accuracy: 0.6988 - val_loss: 1.8249 - val_accuracy: 0.3807\n",
      "Epoch 13/32\n",
      "61/61 [==============================] - ETA: 0s - loss: 0.8008 - accuracy: 0.7182\n",
      "Epoch 13: val_accuracy did not improve from 0.42045\n",
      "61/61 [==============================] - 2s 26ms/step - loss: 0.8008 - accuracy: 0.7182 - val_loss: 1.9285 - val_accuracy: 0.3693\n",
      "Epoch 14/32\n",
      "61/61 [==============================] - ETA: 0s - loss: 0.6159 - accuracy: 0.7428\n",
      "Epoch 14: val_accuracy did not improve from 0.42045\n",
      "61/61 [==============================] - 2s 28ms/step - loss: 0.6159 - accuracy: 0.7428 - val_loss: 1.6286 - val_accuracy: 0.3807\n",
      "Epoch 15/32\n",
      "61/61 [==============================] - ETA: 0s - loss: 0.5220 - accuracy: 0.7818\n",
      "Epoch 15: val_accuracy did not improve from 0.42045\n",
      "61/61 [==============================] - 2s 28ms/step - loss: 0.5220 - accuracy: 0.7818 - val_loss: 1.6249 - val_accuracy: 0.3750\n",
      "Epoch 16/32\n",
      "60/61 [============================>.] - ETA: 0s - loss: 0.5719 - accuracy: 0.7906\n",
      "Epoch 16: val_accuracy did not improve from 0.42045\n",
      "61/61 [==============================] - 2s 27ms/step - loss: 0.5671 - accuracy: 0.7920 - val_loss: 1.7787 - val_accuracy: 0.4091\n",
      "Epoch 17/32\n",
      "60/61 [============================>.] - ETA: 0s - loss: 0.5060 - accuracy: 0.7979\n",
      "Epoch 17: val_accuracy did not improve from 0.42045\n",
      "61/61 [==============================] - 2s 29ms/step - loss: 0.5248 - accuracy: 0.7961 - val_loss: 2.0249 - val_accuracy: 0.3693\n",
      "Epoch 18/32\n",
      "59/61 [============================>.] - ETA: 0s - loss: 0.4210 - accuracy: 0.8326\n",
      "Epoch 18: val_accuracy did not improve from 0.42045\n",
      "61/61 [==============================] - 2s 26ms/step - loss: 0.4293 - accuracy: 0.8279 - val_loss: 2.0055 - val_accuracy: 0.4091\n",
      "Epoch 19/32\n",
      "60/61 [============================>.] - ETA: 0s - loss: 0.4530 - accuracy: 0.8344\n",
      "Epoch 19: val_accuracy did not improve from 0.42045\n",
      "61/61 [==============================] - 2s 28ms/step - loss: 0.4516 - accuracy: 0.8350 - val_loss: 2.1394 - val_accuracy: 0.3920\n",
      "Epoch 20/32\n",
      "61/61 [==============================] - ETA: 0s - loss: 0.4077 - accuracy: 0.8494\n",
      "Epoch 20: val_accuracy did not improve from 0.42045\n",
      "61/61 [==============================] - 2s 27ms/step - loss: 0.4077 - accuracy: 0.8494 - val_loss: 2.1091 - val_accuracy: 0.3977\n",
      "Epoch 21/32\n",
      "61/61 [==============================] - ETA: 0s - loss: 0.4063 - accuracy: 0.8484\n",
      "Epoch 21: val_accuracy did not improve from 0.42045\n",
      "61/61 [==============================] - 2s 29ms/step - loss: 0.4063 - accuracy: 0.8484 - val_loss: 2.4911 - val_accuracy: 0.4034\n",
      "Epoch 22/32\n",
      "59/61 [============================>.] - ETA: 0s - loss: 0.4690 - accuracy: 0.8284\n",
      "Epoch 22: val_accuracy did not improve from 0.42045\n",
      "61/61 [==============================] - 2s 28ms/step - loss: 0.4663 - accuracy: 0.8289 - val_loss: 2.2854 - val_accuracy: 0.4034\n",
      "Epoch 23/32\n",
      "59/61 [============================>.] - ETA: 0s - loss: 0.3369 - accuracy: 0.8708\n",
      "Epoch 23: val_accuracy did not improve from 0.42045\n",
      "61/61 [==============================] - 2s 26ms/step - loss: 0.3415 - accuracy: 0.8709 - val_loss: 3.1774 - val_accuracy: 0.3693\n",
      "Epoch 24/32\n",
      "61/61 [==============================] - ETA: 0s - loss: 0.3637 - accuracy: 0.8637\n",
      "Epoch 24: val_accuracy did not improve from 0.42045\n",
      "61/61 [==============================] - 2s 26ms/step - loss: 0.3637 - accuracy: 0.8637 - val_loss: 2.5045 - val_accuracy: 0.4034\n",
      "Epoch 25/32\n",
      "60/61 [============================>.] - ETA: 0s - loss: 0.3386 - accuracy: 0.8708\n",
      "Epoch 25: val_accuracy did not improve from 0.42045\n",
      "61/61 [==============================] - 2s 27ms/step - loss: 0.3412 - accuracy: 0.8699 - val_loss: 3.3784 - val_accuracy: 0.3523\n",
      "Epoch 26/32\n",
      "60/61 [============================>.] - ETA: 0s - loss: 0.4520 - accuracy: 0.8583\n",
      "Epoch 26: val_accuracy did not improve from 0.42045\n",
      "61/61 [==============================] - 2s 27ms/step - loss: 0.4695 - accuracy: 0.8555 - val_loss: 3.7633 - val_accuracy: 0.4091\n",
      "Epoch 27/32\n",
      "61/61 [==============================] - ETA: 0s - loss: 0.3474 - accuracy: 0.8760\n",
      "Epoch 27: val_accuracy did not improve from 0.42045\n",
      "61/61 [==============================] - 2s 27ms/step - loss: 0.3474 - accuracy: 0.8760 - val_loss: 3.5796 - val_accuracy: 0.4034\n",
      "Epoch 28/32\n",
      "59/61 [============================>.] - ETA: 0s - loss: 0.3103 - accuracy: 0.8761\n",
      "Epoch 28: val_accuracy did not improve from 0.42045\n",
      "61/61 [==============================] - 2s 25ms/step - loss: 0.3113 - accuracy: 0.8760 - val_loss: 2.8250 - val_accuracy: 0.3750\n",
      "Epoch 29/32\n",
      "59/61 [============================>.] - ETA: 0s - loss: 0.2656 - accuracy: 0.8972\n",
      "Epoch 29: val_accuracy did not improve from 0.42045\n",
      "61/61 [==============================] - 2s 26ms/step - loss: 0.2662 - accuracy: 0.8965 - val_loss: 2.8613 - val_accuracy: 0.3523\n",
      "Epoch 30/32\n",
      "59/61 [============================>.] - ETA: 0s - loss: 0.2717 - accuracy: 0.9110\n",
      "Epoch 30: val_accuracy did not improve from 0.42045\n",
      "61/61 [==============================] - 2s 26ms/step - loss: 0.2781 - accuracy: 0.9098 - val_loss: 3.4611 - val_accuracy: 0.3864\n",
      "Epoch 31/32\n",
      "61/61 [==============================] - ETA: 0s - loss: 0.2741 - accuracy: 0.9037\n",
      "Epoch 31: val_accuracy did not improve from 0.42045\n",
      "61/61 [==============================] - 2s 26ms/step - loss: 0.2741 - accuracy: 0.9037 - val_loss: 4.2917 - val_accuracy: 0.3977\n",
      "Epoch 32/32\n",
      "60/61 [============================>.] - ETA: 0s - loss: 0.2491 - accuracy: 0.9052\n",
      "Epoch 32: val_accuracy did not improve from 0.42045\n",
      "61/61 [==============================] - 1s 25ms/step - loss: 0.2483 - accuracy: 0.9047 - val_loss: 3.2819 - val_accuracy: 0.3977\n"
     ]
    }
   ],
   "source": [
    "d3_model, d3_history = train_categorical_model()"
   ]
  },
  {
   "cell_type": "code",
   "execution_count": 27,
   "metadata": {
    "scrolled": false
   },
   "outputs": [
    {
     "name": "stdout",
     "output_type": "stream",
     "text": [
      "Best Model:\n",
      "epoch: 4 , val_accuracy: 0.4204545319080353 , val_loss: 1.2028239965438843\n"
     ]
    },
    {
     "data": {
      "image/png": "[encoded data removed]",
      "text/plain": [
       "<Figure size 1000x400 with 2 Axes>"
      ]
     },
     "metadata": {},
     "output_type": "display_data"
    }
   ],
   "source": [
    "plot_metrics(d3_history)"
   ]
  },
  {
   "cell_type": "code",
   "execution_count": 18,
   "metadata": {
    "collapsed": true
   },
   "outputs": [
    {
     "name": "stderr",
     "output_type": "stream",
     "text": [
      "WARNING:absl:At this time, the v2.11+ optimizer `tf.keras.optimizers.SGD` runs slowly on M1/M2 Macs, please use the legacy Keras optimizer instead, located at `tf.keras.optimizers.legacy.SGD`.\n",
      "WARNING:absl:`lr` is deprecated in Keras optimizer, please use `learning_rate` or use the legacy optimizer, e.g.,tf.keras.optimizers.legacy.SGD.\n"
     ]
    },
    {
     "name": "stdout",
     "output_type": "stream",
     "text": [
      "Model loaded.\n",
      "Found 1840 images belonging to 2 classes.\n",
      "Found 460 images belonging to 2 classes.\n"
     ]
    },
    {
     "name": "stderr",
     "output_type": "stream",
     "text": [
      "/var/folders/j1/vm8wnhzj1xx95r_k8mczqpwr0000gn/T/ipykernel_32344/1438658417.py:30: UserWarning: `Model.fit_generator` is deprecated and will be removed in a future version. Please use `Model.fit`, which supports generators.\n",
      "  fit = model.fit_generator(train_generator, steps_per_epoch=nb_train_samples//batch_size, epochs=epochs, validation_data=validation_generator, validation_steps=nb_validation_samples//batch_size, verbose=1, callbacks=[checkpoint])\n"
     ]
    },
    {
     "name": "stdout",
     "output_type": "stream",
     "text": [
      "Epoch 1/10\n"
     ]
    },
    {
     "ename": "InvalidArgumentError",
     "evalue": "Graph execution error:\n\nDetected at node categorical_crossentropy/softmax_cross_entropy_with_logits defined at (most recent call last):\n  File \"/Users/estelabalboa/.pyenv/versions/3.10.6/lib/python3.10/runpy.py\", line 196, in _run_module_as_main\n\n  File \"/Users/estelabalboa/.pyenv/versions/3.10.6/lib/python3.10/runpy.py\", line 86, in _run_code\n\n  File \"/Users/estelabalboa/dev/hackathons/delorian-claim/delorian-env/lib/python3.10/site-packages/ipykernel_launcher.py\", line 17, in <module>\n\n  File \"/Users/estelabalboa/dev/hackathons/delorian-claim/delorian-env/lib/python3.10/site-packages/traitlets/config/application.py\", line 1053, in launch_instance\n\n  File \"/Users/estelabalboa/dev/hackathons/delorian-claim/delorian-env/lib/python3.10/site-packages/ipykernel/kernelapp.py\", line 737, in start\n\n  File \"/Users/estelabalboa/dev/hackathons/delorian-claim/delorian-env/lib/python3.10/site-packages/tornado/platform/asyncio.py\", line 195, in start\n\n  File \"/Users/estelabalboa/.pyenv/versions/3.10.6/lib/python3.10/asyncio/base_events.py\", line 600, in run_forever\n\n  File \"/Users/estelabalboa/.pyenv/versions/3.10.6/lib/python3.10/asyncio/base_events.py\", line 1896, in _run_once\n\n  File \"/Users/estelabalboa/.pyenv/versions/3.10.6/lib/python3.10/asyncio/events.py\", line 80, in _run\n\n  File \"/Users/estelabalboa/dev/hackathons/delorian-claim/delorian-env/lib/python3.10/site-packages/ipykernel/kernelbase.py\", line 524, in dispatch_queue\n\n  File \"/Users/estelabalboa/dev/hackathons/delorian-claim/delorian-env/lib/python3.10/site-packages/ipykernel/kernelbase.py\", line 513, in process_one\n\n  File \"/Users/estelabalboa/dev/hackathons/delorian-claim/delorian-env/lib/python3.10/site-packages/ipykernel/kernelbase.py\", line 418, in dispatch_shell\n\n  File \"/Users/estelabalboa/dev/hackathons/delorian-claim/delorian-env/lib/python3.10/site-packages/ipykernel/kernelbase.py\", line 758, in execute_request\n\n  File \"/Users/estelabalboa/dev/hackathons/delorian-claim/delorian-env/lib/python3.10/site-packages/ipykernel/ipkernel.py\", line 426, in do_execute\n\n  File \"/Users/estelabalboa/dev/hackathons/delorian-claim/delorian-env/lib/python3.10/site-packages/ipykernel/zmqshell.py\", line 549, in run_cell\n\n  File \"/Users/estelabalboa/dev/hackathons/delorian-claim/delorian-env/lib/python3.10/site-packages/IPython/core/interactiveshell.py\", line 3046, in run_cell\n\n  File \"/Users/estelabalboa/dev/hackathons/delorian-claim/delorian-env/lib/python3.10/site-packages/IPython/core/interactiveshell.py\", line 3101, in _run_cell\n\n  File \"/Users/estelabalboa/dev/hackathons/delorian-claim/delorian-env/lib/python3.10/site-packages/IPython/core/async_helpers.py\", line 129, in _pseudo_sync_runner\n\n  File \"/Users/estelabalboa/dev/hackathons/delorian-claim/delorian-env/lib/python3.10/site-packages/IPython/core/interactiveshell.py\", line 3306, in run_cell_async\n\n  File \"/Users/estelabalboa/dev/hackathons/delorian-claim/delorian-env/lib/python3.10/site-packages/IPython/core/interactiveshell.py\", line 3488, in run_ast_nodes\n\n  File \"/Users/estelabalboa/dev/hackathons/delorian-claim/delorian-env/lib/python3.10/site-packages/IPython/core/interactiveshell.py\", line 3548, in run_code\n\n  File \"/var/folders/j1/vm8wnhzj1xx95r_k8mczqpwr0000gn/T/ipykernel_32344/3689588804.py\", line 1, in <module>\n\n  File \"/var/folders/j1/vm8wnhzj1xx95r_k8mczqpwr0000gn/T/ipykernel_32344/1438658417.py\", line 30, in finetune_categorical_model\n\n  File \"/Users/estelabalboa/dev/hackathons/delorian-claim/delorian-env/lib/python3.10/site-packages/keras/src/engine/training.py\", line 2889, in fit_generator\n\n  File \"/Users/estelabalboa/dev/hackathons/delorian-claim/delorian-env/lib/python3.10/site-packages/keras/src/utils/traceback_utils.py\", line 65, in error_handler\n\n  File \"/Users/estelabalboa/dev/hackathons/delorian-claim/delorian-env/lib/python3.10/site-packages/keras/src/engine/training.py\", line 1783, in fit\n\n  File \"/Users/estelabalboa/dev/hackathons/delorian-claim/delorian-env/lib/python3.10/site-packages/keras/src/engine/training.py\", line 1377, in train_function\n\n  File \"/Users/estelabalboa/dev/hackathons/delorian-claim/delorian-env/lib/python3.10/site-packages/keras/src/engine/training.py\", line 1360, in step_function\n\n  File \"/Users/estelabalboa/dev/hackathons/delorian-claim/delorian-env/lib/python3.10/site-packages/keras/src/engine/training.py\", line 1349, in run_step\n\n  File \"/Users/estelabalboa/dev/hackathons/delorian-claim/delorian-env/lib/python3.10/site-packages/keras/src/engine/training.py\", line 1127, in train_step\n\n  File \"/Users/estelabalboa/dev/hackathons/delorian-claim/delorian-env/lib/python3.10/site-packages/keras/src/engine/training.py\", line 1185, in compute_loss\n\n  File \"/Users/estelabalboa/dev/hackathons/delorian-claim/delorian-env/lib/python3.10/site-packages/keras/src/engine/compile_utils.py\", line 277, in __call__\n\n  File \"/Users/estelabalboa/dev/hackathons/delorian-claim/delorian-env/lib/python3.10/site-packages/keras/src/losses.py\", line 143, in __call__\n\n  File \"/Users/estelabalboa/dev/hackathons/delorian-claim/delorian-env/lib/python3.10/site-packages/keras/src/losses.py\", line 270, in call\n\n  File \"/Users/estelabalboa/dev/hackathons/delorian-claim/delorian-env/lib/python3.10/site-packages/keras/src/losses.py\", line 2221, in categorical_crossentropy\n\n  File \"/Users/estelabalboa/dev/hackathons/delorian-claim/delorian-env/lib/python3.10/site-packages/keras/src/backend.py\", line 5581, in categorical_crossentropy\n\nlogits and labels must be broadcastable: logits_size=[16,3] labels_size=[16,2]\n\t [[{{node categorical_crossentropy/softmax_cross_entropy_with_logits}}]] [Op:__inference_train_function_6589]",
     "output_type": "error",
     "traceback": [
      "\u001b[0;31m---------------------------------------------------------------------------\u001b[0m",
      "\u001b[0;31mInvalidArgumentError\u001b[0m                      Traceback (most recent call last)",
      "\u001b[1;32m/Users/estelabalboa/dev/hackathons/delorian-claim/delorian-assesment/exploratory/03-pipe_3.1-damage_location.ipynb Cell 15\u001b[0m line \u001b[0;36m1\n\u001b[0;32m----> <a href='vscode-notebook-cell:/Users/estelabalboa/dev/hackathons/delorian-claim/delorian-assesment/exploratory/03-pipe_3.1-damage_location.ipynb#X20sZmlsZQ%3D%3D?line=0'>1</a>\u001b[0m ft_model, ft_history \u001b[39m=\u001b[39m finetune_categorical_model()\n",
      "\u001b[1;32m/Users/estelabalboa/dev/hackathons/delorian-claim/delorian-assesment/exploratory/03-pipe_3.1-damage_location.ipynb Cell 15\u001b[0m line \u001b[0;36m3\n\u001b[1;32m     <a href='vscode-notebook-cell:/Users/estelabalboa/dev/hackathons/delorian-claim/delorian-assesment/exploratory/03-pipe_3.1-damage_location.ipynb#X20sZmlsZQ%3D%3D?line=25'>26</a>\u001b[0m validation_generator \u001b[39m=\u001b[39m test_datagen\u001b[39m.\u001b[39mflow_from_directory(validation_data_dir, target_size\u001b[39m=\u001b[39m(img_height, img_width), batch_size\u001b[39m=\u001b[39mbatch_size, class_mode\u001b[39m=\u001b[39m\u001b[39m'\u001b[39m\u001b[39mcategorical\u001b[39m\u001b[39m'\u001b[39m)\n\u001b[1;32m     <a href='vscode-notebook-cell:/Users/estelabalboa/dev/hackathons/delorian-claim/delorian-assesment/exploratory/03-pipe_3.1-damage_location.ipynb#X20sZmlsZQ%3D%3D?line=27'>28</a>\u001b[0m checkpoint \u001b[39m=\u001b[39m ModelCheckpoint(fine_tuned_model_path, monitor\u001b[39m=\u001b[39m\u001b[39m'\u001b[39m\u001b[39mval_accuracy\u001b[39m\u001b[39m'\u001b[39m, verbose\u001b[39m=\u001b[39m\u001b[39m1\u001b[39m, save_best_only\u001b[39m=\u001b[39m\u001b[39mTrue\u001b[39;00m, save_weights_only\u001b[39m=\u001b[39m\u001b[39mFalse\u001b[39;00m, mode\u001b[39m=\u001b[39m\u001b[39m'\u001b[39m\u001b[39mauto\u001b[39m\u001b[39m'\u001b[39m)\n\u001b[0;32m---> <a href='vscode-notebook-cell:/Users/estelabalboa/dev/hackathons/delorian-claim/delorian-assesment/exploratory/03-pipe_3.1-damage_location.ipynb#X20sZmlsZQ%3D%3D?line=29'>30</a>\u001b[0m fit \u001b[39m=\u001b[39m model\u001b[39m.\u001b[39;49mfit_generator(train_generator, steps_per_epoch\u001b[39m=\u001b[39;49mnb_train_samples\u001b[39m/\u001b[39;49m\u001b[39m/\u001b[39;49mbatch_size, epochs\u001b[39m=\u001b[39;49mepochs, validation_data\u001b[39m=\u001b[39;49mvalidation_generator, validation_steps\u001b[39m=\u001b[39;49mnb_validation_samples\u001b[39m/\u001b[39;49m\u001b[39m/\u001b[39;49mbatch_size, verbose\u001b[39m=\u001b[39;49m\u001b[39m1\u001b[39;49m, callbacks\u001b[39m=\u001b[39;49m[checkpoint])\n\u001b[1;32m     <a href='vscode-notebook-cell:/Users/estelabalboa/dev/hackathons/delorian-claim/delorian-assesment/exploratory/03-pipe_3.1-damage_location.ipynb#X20sZmlsZQ%3D%3D?line=31'>32</a>\u001b[0m \u001b[39mwith\u001b[39;00m \u001b[39mopen\u001b[39m(location\u001b[39m+\u001b[39m\u001b[39m'\u001b[39m\u001b[39m/ft_history.txt\u001b[39m\u001b[39m'\u001b[39m, \u001b[39m'\u001b[39m\u001b[39mw\u001b[39m\u001b[39m'\u001b[39m) \u001b[39mas\u001b[39;00m f:\n\u001b[1;32m     <a href='vscode-notebook-cell:/Users/estelabalboa/dev/hackathons/delorian-claim/delorian-assesment/exploratory/03-pipe_3.1-damage_location.ipynb#X20sZmlsZQ%3D%3D?line=32'>33</a>\u001b[0m     json\u001b[39m.\u001b[39mdump(fit\u001b[39m.\u001b[39mhistory, f)\n",
      "File \u001b[0;32m~/dev/hackathons/delorian-claim/delorian-env/lib/python3.10/site-packages/keras/src/engine/training.py:2889\u001b[0m, in \u001b[0;36mModel.fit_generator\u001b[0;34m(self, generator, steps_per_epoch, epochs, verbose, callbacks, validation_data, validation_steps, validation_freq, class_weight, max_queue_size, workers, use_multiprocessing, shuffle, initial_epoch)\u001b[0m\n\u001b[1;32m   2877\u001b[0m \u001b[39m\u001b[39m\u001b[39m\"\"\"Fits the model on data yielded batch-by-batch by a Python generator.\u001b[39;00m\n\u001b[1;32m   2878\u001b[0m \n\u001b[1;32m   2879\u001b[0m \u001b[39mDEPRECATED:\u001b[39;00m\n\u001b[1;32m   2880\u001b[0m \u001b[39m  `Model.fit` now supports generators, so there is no longer any need to\u001b[39;00m\n\u001b[1;32m   2881\u001b[0m \u001b[39m  use this endpoint.\u001b[39;00m\n\u001b[1;32m   2882\u001b[0m \u001b[39m\"\"\"\u001b[39;00m\n\u001b[1;32m   2883\u001b[0m warnings\u001b[39m.\u001b[39mwarn(\n\u001b[1;32m   2884\u001b[0m     \u001b[39m\"\u001b[39m\u001b[39m`Model.fit_generator` is deprecated and \u001b[39m\u001b[39m\"\u001b[39m\n\u001b[1;32m   2885\u001b[0m     \u001b[39m\"\u001b[39m\u001b[39mwill be removed in a future version. \u001b[39m\u001b[39m\"\u001b[39m\n\u001b[1;32m   2886\u001b[0m     \u001b[39m\"\u001b[39m\u001b[39mPlease use `Model.fit`, which supports generators.\u001b[39m\u001b[39m\"\u001b[39m,\n\u001b[1;32m   2887\u001b[0m     stacklevel\u001b[39m=\u001b[39m\u001b[39m2\u001b[39m,\n\u001b[1;32m   2888\u001b[0m )\n\u001b[0;32m-> 2889\u001b[0m \u001b[39mreturn\u001b[39;00m \u001b[39mself\u001b[39;49m\u001b[39m.\u001b[39;49mfit(\n\u001b[1;32m   2890\u001b[0m     generator,\n\u001b[1;32m   2891\u001b[0m     steps_per_epoch\u001b[39m=\u001b[39;49msteps_per_epoch,\n\u001b[1;32m   2892\u001b[0m     epochs\u001b[39m=\u001b[39;49mepochs,\n\u001b[1;32m   2893\u001b[0m     verbose\u001b[39m=\u001b[39;49mverbose,\n\u001b[1;32m   2894\u001b[0m     callbacks\u001b[39m=\u001b[39;49mcallbacks,\n\u001b[1;32m   2895\u001b[0m     validation_data\u001b[39m=\u001b[39;49mvalidation_data,\n\u001b[1;32m   2896\u001b[0m     validation_steps\u001b[39m=\u001b[39;49mvalidation_steps,\n\u001b[1;32m   2897\u001b[0m     validation_freq\u001b[39m=\u001b[39;49mvalidation_freq,\n\u001b[1;32m   2898\u001b[0m     class_weight\u001b[39m=\u001b[39;49mclass_weight,\n\u001b[1;32m   2899\u001b[0m     max_queue_size\u001b[39m=\u001b[39;49mmax_queue_size,\n\u001b[1;32m   2900\u001b[0m     workers\u001b[39m=\u001b[39;49mworkers,\n\u001b[1;32m   2901\u001b[0m     use_multiprocessing\u001b[39m=\u001b[39;49muse_multiprocessing,\n\u001b[1;32m   2902\u001b[0m     shuffle\u001b[39m=\u001b[39;49mshuffle,\n\u001b[1;32m   2903\u001b[0m     initial_epoch\u001b[39m=\u001b[39;49minitial_epoch,\n\u001b[1;32m   2904\u001b[0m )\n",
      "File \u001b[0;32m~/dev/hackathons/delorian-claim/delorian-env/lib/python3.10/site-packages/keras/src/utils/traceback_utils.py:70\u001b[0m, in \u001b[0;36mfilter_traceback.<locals>.error_handler\u001b[0;34m(*args, **kwargs)\u001b[0m\n\u001b[1;32m     67\u001b[0m     filtered_tb \u001b[39m=\u001b[39m _process_traceback_frames(e\u001b[39m.\u001b[39m__traceback__)\n\u001b[1;32m     68\u001b[0m     \u001b[39m# To get the full stack trace, call:\u001b[39;00m\n\u001b[1;32m     69\u001b[0m     \u001b[39m# `tf.debugging.disable_traceback_filtering()`\u001b[39;00m\n\u001b[0;32m---> 70\u001b[0m     \u001b[39mraise\u001b[39;00m e\u001b[39m.\u001b[39mwith_traceback(filtered_tb) \u001b[39mfrom\u001b[39;00m \u001b[39mNone\u001b[39;00m\n\u001b[1;32m     71\u001b[0m \u001b[39mfinally\u001b[39;00m:\n\u001b[1;32m     72\u001b[0m     \u001b[39mdel\u001b[39;00m filtered_tb\n",
      "File \u001b[0;32m~/dev/hackathons/delorian-claim/delorian-env/lib/python3.10/site-packages/tensorflow/python/eager/execute.py:60\u001b[0m, in \u001b[0;36mquick_execute\u001b[0;34m(op_name, num_outputs, inputs, attrs, ctx, name)\u001b[0m\n\u001b[1;32m     53\u001b[0m   \u001b[39m# Convert any objects of type core_types.Tensor to Tensor.\u001b[39;00m\n\u001b[1;32m     54\u001b[0m   inputs \u001b[39m=\u001b[39m [\n\u001b[1;32m     55\u001b[0m       tensor_conversion_registry\u001b[39m.\u001b[39mconvert(t)\n\u001b[1;32m     56\u001b[0m       \u001b[39mif\u001b[39;00m \u001b[39misinstance\u001b[39m(t, core_types\u001b[39m.\u001b[39mTensor)\n\u001b[1;32m     57\u001b[0m       \u001b[39melse\u001b[39;00m t\n\u001b[1;32m     58\u001b[0m       \u001b[39mfor\u001b[39;00m t \u001b[39min\u001b[39;00m inputs\n\u001b[1;32m     59\u001b[0m   ]\n\u001b[0;32m---> 60\u001b[0m   tensors \u001b[39m=\u001b[39m pywrap_tfe\u001b[39m.\u001b[39mTFE_Py_Execute(ctx\u001b[39m.\u001b[39m_handle, device_name, op_name,\n\u001b[1;32m     61\u001b[0m                                       inputs, attrs, num_outputs)\n\u001b[1;32m     62\u001b[0m \u001b[39mexcept\u001b[39;00m core\u001b[39m.\u001b[39m_NotOkStatusException \u001b[39mas\u001b[39;00m e:\n\u001b[1;32m     63\u001b[0m   \u001b[39mif\u001b[39;00m name \u001b[39mis\u001b[39;00m \u001b[39mnot\u001b[39;00m \u001b[39mNone\u001b[39;00m:\n",
      "\u001b[0;31mInvalidArgumentError\u001b[0m: Graph execution error:\n\nDetected at node categorical_crossentropy/softmax_cross_entropy_with_logits defined at (most recent call last):\n  File \"/Users/estelabalboa/.pyenv/versions/3.10.6/lib/python3.10/runpy.py\", line 196, in _run_module_as_main\n\n  File \"/Users/estelabalboa/.pyenv/versions/3.10.6/lib/python3.10/runpy.py\", line 86, in _run_code\n\n  File \"/Users/estelabalboa/dev/hackathons/delorian-claim/delorian-env/lib/python3.10/site-packages/ipykernel_launcher.py\", line 17, in <module>\n\n  File \"/Users/estelabalboa/dev/hackathons/delorian-claim/delorian-env/lib/python3.10/site-packages/traitlets/config/application.py\", line 1053, in launch_instance\n\n  File \"/Users/estelabalboa/dev/hackathons/delorian-claim/delorian-env/lib/python3.10/site-packages/ipykernel/kernelapp.py\", line 737, in start\n\n  File \"/Users/estelabalboa/dev/hackathons/delorian-claim/delorian-env/lib/python3.10/site-packages/tornado/platform/asyncio.py\", line 195, in start\n\n  File \"/Users/estelabalboa/.pyenv/versions/3.10.6/lib/python3.10/asyncio/base_events.py\", line 600, in run_forever\n\n  File \"/Users/estelabalboa/.pyenv/versions/3.10.6/lib/python3.10/asyncio/base_events.py\", line 1896, in _run_once\n\n  File \"/Users/estelabalboa/.pyenv/versions/3.10.6/lib/python3.10/asyncio/events.py\", line 80, in _run\n\n  File \"/Users/estelabalboa/dev/hackathons/delorian-claim/delorian-env/lib/python3.10/site-packages/ipykernel/kernelbase.py\", line 524, in dispatch_queue\n\n  File \"/Users/estelabalboa/dev/hackathons/delorian-claim/delorian-env/lib/python3.10/site-packages/ipykernel/kernelbase.py\", line 513, in process_one\n\n  File \"/Users/estelabalboa/dev/hackathons/delorian-claim/delorian-env/lib/python3.10/site-packages/ipykernel/kernelbase.py\", line 418, in dispatch_shell\n\n  File \"/Users/estelabalboa/dev/hackathons/delorian-claim/delorian-env/lib/python3.10/site-packages/ipykernel/kernelbase.py\", line 758, in execute_request\n\n  File \"/Users/estelabalboa/dev/hackathons/delorian-claim/delorian-env/lib/python3.10/site-packages/ipykernel/ipkernel.py\", line 426, in do_execute\n\n  File \"/Users/estelabalboa/dev/hackathons/delorian-claim/delorian-env/lib/python3.10/site-packages/ipykernel/zmqshell.py\", line 549, in run_cell\n\n  File \"/Users/estelabalboa/dev/hackathons/delorian-claim/delorian-env/lib/python3.10/site-packages/IPython/core/interactiveshell.py\", line 3046, in run_cell\n\n  File \"/Users/estelabalboa/dev/hackathons/delorian-claim/delorian-env/lib/python3.10/site-packages/IPython/core/interactiveshell.py\", line 3101, in _run_cell\n\n  File \"/Users/estelabalboa/dev/hackathons/delorian-claim/delorian-env/lib/python3.10/site-packages/IPython/core/async_helpers.py\", line 129, in _pseudo_sync_runner\n\n  File \"/Users/estelabalboa/dev/hackathons/delorian-claim/delorian-env/lib/python3.10/site-packages/IPython/core/interactiveshell.py\", line 3306, in run_cell_async\n\n  File \"/Users/estelabalboa/dev/hackathons/delorian-claim/delorian-env/lib/python3.10/site-packages/IPython/core/interactiveshell.py\", line 3488, in run_ast_nodes\n\n  File \"/Users/estelabalboa/dev/hackathons/delorian-claim/delorian-env/lib/python3.10/site-packages/IPython/core/interactiveshell.py\", line 3548, in run_code\n\n  File \"/var/folders/j1/vm8wnhzj1xx95r_k8mczqpwr0000gn/T/ipykernel_32344/3689588804.py\", line 1, in <module>\n\n  File \"/var/folders/j1/vm8wnhzj1xx95r_k8mczqpwr0000gn/T/ipykernel_32344/1438658417.py\", line 30, in finetune_categorical_model\n\n  File \"/Users/estelabalboa/dev/hackathons/delorian-claim/delorian-env/lib/python3.10/site-packages/keras/src/engine/training.py\", line 2889, in fit_generator\n\n  File \"/Users/estelabalboa/dev/hackathons/delorian-claim/delorian-env/lib/python3.10/site-packages/keras/src/utils/traceback_utils.py\", line 65, in error_handler\n\n  File \"/Users/estelabalboa/dev/hackathons/delorian-claim/delorian-env/lib/python3.10/site-packages/keras/src/engine/training.py\", line 1783, in fit\n\n  File \"/Users/estelabalboa/dev/hackathons/delorian-claim/delorian-env/lib/python3.10/site-packages/keras/src/engine/training.py\", line 1377, in train_function\n\n  File \"/Users/estelabalboa/dev/hackathons/delorian-claim/delorian-env/lib/python3.10/site-packages/keras/src/engine/training.py\", line 1360, in step_function\n\n  File \"/Users/estelabalboa/dev/hackathons/delorian-claim/delorian-env/lib/python3.10/site-packages/keras/src/engine/training.py\", line 1349, in run_step\n\n  File \"/Users/estelabalboa/dev/hackathons/delorian-claim/delorian-env/lib/python3.10/site-packages/keras/src/engine/training.py\", line 1127, in train_step\n\n  File \"/Users/estelabalboa/dev/hackathons/delorian-claim/delorian-env/lib/python3.10/site-packages/keras/src/engine/training.py\", line 1185, in compute_loss\n\n  File \"/Users/estelabalboa/dev/hackathons/delorian-claim/delorian-env/lib/python3.10/site-packages/keras/src/engine/compile_utils.py\", line 277, in __call__\n\n  File \"/Users/estelabalboa/dev/hackathons/delorian-claim/delorian-env/lib/python3.10/site-packages/keras/src/losses.py\", line 143, in __call__\n\n  File \"/Users/estelabalboa/dev/hackathons/delorian-claim/delorian-env/lib/python3.10/site-packages/keras/src/losses.py\", line 270, in call\n\n  File \"/Users/estelabalboa/dev/hackathons/delorian-claim/delorian-env/lib/python3.10/site-packages/keras/src/losses.py\", line 2221, in categorical_crossentropy\n\n  File \"/Users/estelabalboa/dev/hackathons/delorian-claim/delorian-env/lib/python3.10/site-packages/keras/src/backend.py\", line 5581, in categorical_crossentropy\n\nlogits and labels must be broadcastable: logits_size=[16,3] labels_size=[16,2]\n\t [[{{node categorical_crossentropy/softmax_cross_entropy_with_logits}}]] [Op:__inference_train_function_6589]"
     ]
    }
   ],
   "source": [
    "ft_model, ft_history = finetune_categorical_model()"
   ]
  },
  {
   "cell_type": "code",
   "execution_count": null,
   "metadata": {
    "collapsed": true
   },
   "outputs": [],
   "source": [
    "ft_model = load_model('data3/bottleneck_fc_model.h5')"
   ]
  },
  {
   "cell_type": "code",
   "execution_count": null,
   "metadata": {},
   "outputs": [],
   "source": [
    "validation_labels = np.array([0] * validation_samples[0] + \n",
    "                             [1] * validation_samples[1] +\n",
    "                             [2] * validation_samples[2])"
   ]
  },
  {
   "cell_type": "code",
   "execution_count": null,
   "metadata": {
    "collapsed": true
   },
   "outputs": [],
   "source": [
    "cm = evaluate_categorical_model(ft_model, validation_data_dir, validation_labels)"
   ]
  },
  {
   "cell_type": "markdown",
   "metadata": {},
   "source": [
    "## Pipe3.1"
   ]
  },
  {
   "cell_type": "code",
   "execution_count": null,
   "metadata": {},
   "outputs": [],
   "source": [
    "def pipe31(image_path, model):\n",
    "    urllib.request.urlretrieve(image_path, 'save.jpg')\n",
    "    img = load_img('save.jpg', target_size=(256,256))\n",
    "    x = img_to_array(img)\n",
    "    x = x.reshape((1,)+x.shape)/255\n",
    "    pred = model.predict(x)\n",
    "    pred_labels = np.argmax(pred, axis=1)\n",
    "    d = {0:'Front', 1:'Rear', 2:'Side'}\n",
    "    for key in d.keys():\n",
    "        if pred_labels[0] == key:\n",
    "            print(\"Validating location of damage....Result:\",d[key])\n",
    "    print(\"Severity assessment complete.\")"
   ]
  },
  {
   "cell_type": "code",
   "execution_count": null,
   "metadata": {},
   "outputs": [],
   "source": [
    "Image('https://www.copartdirect.com/content/2007-kia-rio-front-end-damage.jpg')"
   ]
  },
  {
   "cell_type": "code",
   "execution_count": null,
   "metadata": {},
   "outputs": [],
   "source": [
    "pipe31('https://www.copartdirect.com/content/2007-kia-rio-front-end-damage.jpg', model1)"
   ]
  },
  {
   "cell_type": "code",
   "execution_count": null,
   "metadata": {},
   "outputs": [],
   "source": [
    "Image('https://drndata.com/wp-content/uploads/2016/03/car.jpg')"
   ]
  },
  {
   "cell_type": "code",
   "execution_count": null,
   "metadata": {},
   "outputs": [],
   "source": [
    "pipe31('https://drndata.com/wp-content/uploads/2016/03/car.jpg', ft_model)"
   ]
  },
  {
   "cell_type": "code",
   "execution_count": null,
   "metadata": {},
   "outputs": [],
   "source": [
    "Image('http://repairablecars-forsale.com/photos/Exotic_Wrecked_Cars_F430_Spider_Red_Ferrari.jpg')"
   ]
  },
  {
   "cell_type": "code",
   "execution_count": null,
   "metadata": {},
   "outputs": [],
   "source": [
    "pipe31('http://repairablecars-forsale.com/photos/Exotic_Wrecked_Cars_F430_Spider_Red_Ferrari.jpg', ft_model)"
   ]
  }
 ],
 "metadata": {
  "kernelspec": {
   "display_name": "delorian-env",
   "language": "python",
   "name": "python3"
  },
  "language_info": {
   "codemirror_mode": {
    "name": "ipython",
    "version": 3
   },
   "file_extension": ".py",
   "mimetype": "text/x-python",
   "name": "python",
   "nbconvert_exporter": "python",
   "pygments_lexer": "ipython3",
   "version": "3.10.6"
  }
 },
 "nbformat": 4,
 "nbformat_minor": 2
}
